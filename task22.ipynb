{
 "cells": [
  {
   "cell_type": "code",
   "execution_count": null,
   "metadata": {
    "id": "TEjLDHzI6FEP"
   },
   "outputs": [],
   "source": [
    "import numpy as np\n",
    "from scipy.sparse import random as sparse_random\n",
    "from scipy.sparse import csr_matrix\n",
    "from scipy.sparse.linalg import eigsh \n",
    "\n",
    "size = 1000 \n",
    "density = 0.01  \n",
    "\n",
    "\n",
    "sparse_matrix = sparse_random(size, size, density=density, format='csr', data_rvs=np.random.randn)\n",
    "\n",
    "\n",
    "symmetric_sparse_matrix = (sparse_matrix + sparse_matrix.T) / 2\n",
    "\n",
    "\n",
    "eigenvalues, eigenvectors = eigsh(symmetric_sparse_matrix, k=k, which='LM')  # 'LM' for largest magnitude\n",
    "\n",
    "\n",
    "print(\"Eigenvalues:\")\n",
    "print(eigenvalues)\n",
    "\n",
    "print(\"\\nEigenvectors (each column corresponds to an eigenvector):\")\n",
    "print(eigenvectors)\n"
   ]
  }
 ],
 "metadata": {
  "colab": {
   "authorship_tag": "ABX9TyOUevPxnRW9QJsjAS30lDQb",
   "provenance": [
    {
     "file_id": "1aUch97gPOBN-vIkNf3K_n8-zjvflUY9G",
     "timestamp": 1732684586179
    }
   ]
  },
  "kernelspec": {
   "display_name": "Python 3",
   "name": "python3"
  },
  "language_info": {
   "name": "python"
  }
 },
 "nbformat": 4,
 "nbformat_minor": 0
}
