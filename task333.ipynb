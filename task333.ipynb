{
 "cells": [
  {
   "cell_type": "code",
   "execution_count": null,
   "metadata": {
    "executionInfo": {
     "elapsed": 1540,
     "status": "ok",
     "timestamp": 1732687572924,
     "user": {
      "displayName": "bhoraniya taj",
      "userId": "09154917437648388386"
     },
     "user_tz": 300
    },
    "id": "8eP0EPfBB4RQ"
   },
   "outputs": [],
   "source": [
    "data = {\n",
    "    'Region': ['North', 'North', 'South', 'South', 'East', 'East', 'West', 'West'],\n",
    "    'Sales': [250, 300, 150, 200, 400, 350, 300, 250],\n",
    "    'Category': ['A', 'B', 'A', 'B', 'A', 'B', 'A', 'B']\n",
    "}\n",
    "df = pd.DataFrame(data)"
   ]
  }
 ],
 "metadata": {
  "colab": {
   "authorship_tag": "ABX9TyMvJG2jik6e6CTwE+Em07Bi",
   "provenance": [
    {
     "file_id": "1aUch97gPOBN-vIkNf3K_n8-zjvflUY9G",
     "timestamp": 1732687417659
    }
   ]
  },
  "kernelspec": {
   "display_name": "Python 3",
   "name": "python3"
  },
  "language_info": {
   "name": "python"
  }
 },
 "nbformat": 4,
 "nbformat_minor": 0
}
