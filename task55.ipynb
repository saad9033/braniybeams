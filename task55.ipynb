{
 "cells": [
  {
   "cell_type": "code",
   "execution_count": null,
   "metadata": {
    "executionInfo": {
     "elapsed": 585,
     "status": "ok",
     "timestamp": 1732690827723,
     "user": {
      "displayName": "bhoraniya taj",
      "userId": "09154917437648388386"
     },
     "user_tz": 300
    },
    "id": "MBNrKAn-Zj_Y"
   },
   "outputs": [],
   "source": [
    "import pandas as pd\n",
    "\n",
    "# Employee details\n",
    "employees = pd.DataFrame({\n",
    "    'EmployeeID': [1, 2, 3, 4],\n",
    "    'Name': ['Alice', 'Bob', 'Charlie', 'David'],\n",
    "    'Department': ['HR', 'IT', 'IT', 'Finance']\n",
    "})\n",
    "\n",
    "# Monthly performance metrics\n",
    "performance = pd.DataFrame({\n",
    "    'EmployeeID': [1, 1, 2, 2, 3, 3, 4, 4],\n",
    "    'Month': ['2024-01', '2024-02', '2024-01', '2024-02', '2024-01', '2024-02', '2024-01', '2024-02'],\n",
    "    'TasksCompleted': [5, 7, 10, 12, 15, 18, 8, 9],\n",
    "    'HoursWorked': [40, 42, 50, 55, 60, 65, 48, 50]\n",
    "})\n",
    "\n",
    "# Department budgets\n",
    "budgets = pd.DataFrame({\n",
    "    'Department': ['HR', 'IT', 'Finance'],\n",
    "    'Budget': [5000, 12000, 8000]\n",
    "})\n"
   ]
  }
 ],
 "metadata": {
  "colab": {
   "authorship_tag": "ABX9TyMSkEjccYH3kohdXtp2rNLg",
   "provenance": []
  },
  "kernelspec": {
   "display_name": "Python 3",
   "name": "python3"
  },
  "language_info": {
   "name": "python"
  }
 },
 "nbformat": 4,
 "nbformat_minor": 0
}
